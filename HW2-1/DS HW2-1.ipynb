{
 "cells": [
  {
   "cell_type": "code",
   "execution_count": 1,
   "id": "d40e1015",
   "metadata": {},
   "outputs": [],
   "source": [
    "import requests\n",
    "url = 'https://sys.ndhu.edu.tw/SA/XSL_ApplyRWD/ActApply.aspx?lang=en'\n",
    "html = requests.get(url)\n",
    "html.encoding = \"utf-8\"\n",
    "\n",
    "from bs4 import BeautifulSoup\n",
    "sp = BeautifulSoup (html.text, 'lxml')"
   ]
  },
  {
   "cell_type": "code",
   "execution_count": 2,
   "id": "e3c6579d",
   "metadata": {},
   "outputs": [
    {
     "name": "stdout",
     "output_type": "stream",
     "text": [
      "['Open', 'Full', 'Open', 'Open', 'Full', 'Open', 'Full', 'Full', 'Open', 'Open']\n"
     ]
    }
   ],
   "source": [
    "status_str = \"BodyContent_gvActs_lblGv_status_\"\n",
    "status = []\n",
    "for i in range(10):\n",
    "    temp = sp.find(id = status_str + str(i))\n",
    "    if temp != None:\n",
    "        status.append(temp.text)\n",
    "print(status)"
   ]
  },
  {
   "cell_type": "code",
   "execution_count": 3,
   "id": "e5db608d",
   "metadata": {},
   "outputs": [
    {
     "name": "stdout",
     "output_type": "stream",
     "text": [
      "['Can / 2', 'Can / 2', 'Can / 2', 'Can / 3', 'Can / 3', 'Can / 2', 'Can / 2', 'Can / 1', 'Can / 1.5', 'Can / 3']\n"
     ]
    }
   ],
   "source": [
    "CHours_str = \"BodyContent_gvActs_lblGv_xsl_check_\"\n",
    "CHours = []\n",
    "for i in range(10):\n",
    "    temp = sp.find(id = CHours_str + str(i))\n",
    "    if temp != None:\n",
    "        CHours.append(temp.text)\n",
    "print(CHours)"
   ]
  },
  {
   "cell_type": "code",
   "execution_count": 4,
   "id": "bea0f1a1",
   "metadata": {},
   "outputs": [
    {
     "name": "stdout",
     "output_type": "stream",
     "text": [
      "['Depart Only', 'Student', 'Student', 'Depart Only', 'Depart Only', 'Student, Faculty, Alumnus, Guest', 'Student', 'Student, Faculty, Alumnus, Guest', 'Depart Only', 'Depart Only']\n"
     ]
    }
   ],
   "source": [
    "Part_str = \"BodyContent_gvActs_lblGv_participant_\"\n",
    "Part = []\n",
    "for i in range(10):\n",
    "    temp = sp.find(id = Part_str + str(i))\n",
    "    if temp != None:\n",
    "        Part.append(temp.text)\n",
    "print(Part)"
   ]
  },
  {
   "cell_type": "code",
   "execution_count": 5,
   "id": "199b93d5",
   "metadata": {},
   "outputs": [
    {
     "name": "stdout",
     "output_type": "stream",
     "text": [
      "['(112學年度中國語文學系系友座談(二)：學高為師，身正為範──教育學程心法分享)', '(〔Rikec法學講座〕法律解殖之路：原住民族的殖民敘事解構與法律多元轉向)', '(智慧電網簡介（書報討論修課同學請勿報名）)', '(電商最新趨勢與創業實戰秘辛(實體))', '(電商最新趨勢與創業實戰秘辛(線上))', '(「縱目歐亞-空間與人文的對話」課程系列講座-4/3（三）郭俊麟副教授（國立東華大學臺灣文化學系）：歐亞地圖史話：從航海探險到戰爭之眼)', '(電影欣賞 (聖筊))', 'ESP Lunch Gathering Session 1: 4/3', '(BA)Language Lounge-Volley Ball-Pitch', '(如何寫好一篇優質的碩博士論文？)']\n"
     ]
    }
   ],
   "source": [
    "AName_str = \"BodyContent_gvActs_lblGv_act_name_\"\n",
    "AName = []\n",
    "for i in range(10):\n",
    "    temp = sp.find(id = AName_str +str(i))\n",
    "    if temp != None:\n",
    "        AName.append(temp.text)\n",
    "print(AName)"
   ]
  },
  {
   "cell_type": "code",
   "execution_count": 6,
   "id": "d682b63e",
   "metadata": {},
   "outputs": [
    {
     "name": "stdout",
     "output_type": "stream",
     "text": [
      "['2024/03/22(Fri)00:00~ 2024/03/31(Sun)12:00', '2024/03/11(Mon)00:00~ 2024/04/01(Mon)00:00', '2024/03/05(Tue)12:00~ 2024/04/01(Mon)12:00', '2024/03/28(Thu)00:00~ 2024/04/01(Mon)12:00', '2024/03/28(Thu)00:00~ 2024/04/01(Mon)12:00', '2024/03/18(Mon)00:00~ 2024/04/02(Tue)00:00', '2024/03/26(Tue)00:00~ 2024/04/02(Tue)00:00', '2024/03/26(Tue)00:00~ 2024/04/02(Tue)10:00', '2024/03/26(Tue)00:00~ 2024/04/02(Tue)17:00', '2024/03/26(Tue)00:00~ 2024/04/02(Tue)17:00']\n"
     ]
    }
   ],
   "source": [
    "EDl_str = \"BodyContent_gvActs_lblGv_reg_dt_\"\n",
    "EDl = []\n",
    "for i in range(10):\n",
    "    temp = sp.find(id = EDl_str + str(i))\n",
    "    if temp != None:\n",
    "        EDl.append(temp.text)\n",
    "print(EDl)"
   ]
  },
  {
   "cell_type": "code",
   "execution_count": 7,
   "id": "c7882747",
   "metadata": {},
   "outputs": [
    {
     "name": "stdout",
     "output_type": "stream",
     "text": [
      "['2024/04/03(Wed) 12:00~14:00', '2024/04/12(Fri) 10:00~12:00', '2024/04/01(Mon) 16:00~18:00', '2024/04/02(Tue) 14:00~17:00', '2024/04/02(Tue) 14:00~17:00', '2024/04/03(Wed) 14:00~16:00', '2024/04/02(Tue) 18:30~20:30', '2024/04/03(Wed) 12:15~13:00', '2024/04/03(Wed) 17:30~19:00', '2024/04/03(Wed) 09:10~12:00']\n"
     ]
    }
   ],
   "source": [
    "ATime_str = \"BodyContent_gvActs_lblGv_act_dt_\"\n",
    "ATime = []\n",
    "for i in range(10):\n",
    "    temp = sp.find(id = ATime_str + str(i))\n",
    "    if temp != None:\n",
    "        ATime.append(temp.text)\n",
    "print(ATime)"
   ]
  },
  {
   "cell_type": "code",
   "execution_count": 8,
   "id": "2df015f3",
   "metadata": {},
   "outputs": [
    {
     "name": "stdout",
     "output_type": "stream",
     "text": [
      "['27 / 45 People', '20 / 20 People', '18 / 30 People', '14 / 40 People', '20 / 20 People', '28 / 40 People', '50 / 50 People', '20 / 20 People', '4 / 20 People', '0 / 8 People']\n"
     ]
    }
   ],
   "source": [
    "Quota_str = \"BodyContent_gvActs_lblGv_reg_num_\"\n",
    "Quota = []\n",
    "for i in range(10):\n",
    "    temp = sp.find(id = Quota_str + str(i))\n",
    "    if temp != None:\n",
    "        Quota.append(temp.text)\n",
    "print(Quota)"
   ]
  },
  {
   "cell_type": "code",
   "execution_count": 9,
   "id": "7a653a9f",
   "metadata": {},
   "outputs": [
    {
     "name": "stdout",
     "output_type": "stream",
     "text": [
      "['Department of Chinese', '(人文社會科學學院 法律學系)', 'Department of Physics', 'College of Management International Business', 'College of Management International Business', 'College of Humanities and Social Science', 'Library Services Section', 'Language Center', 'Department of Business Administration', 'Department of Accounting']\n"
     ]
    }
   ],
   "source": [
    "Org_str = \"BodyContent_gvActs_lblGv_act_unit_\"\n",
    "Org = []\n",
    "for i in range(10):\n",
    "    temp = sp.find(id = Org_str + str(i))\n",
    "    if temp != None:\n",
    "        Org.append(temp.text)\n",
    "print(Org)"
   ]
  },
  {
   "cell_type": "code",
   "execution_count": 10,
   "id": "407d8d59",
   "metadata": {},
   "outputs": [
    {
     "data": {
      "text/html": [
       "<div>\n",
       "<style scoped>\n",
       "    .dataframe tbody tr th:only-of-type {\n",
       "        vertical-align: middle;\n",
       "    }\n",
       "\n",
       "    .dataframe tbody tr th {\n",
       "        vertical-align: top;\n",
       "    }\n",
       "\n",
       "    .dataframe thead th {\n",
       "        text-align: right;\n",
       "    }\n",
       "</style>\n",
       "<table border=\"1\" class=\"dataframe\">\n",
       "  <thead>\n",
       "    <tr style=\"text-align: right;\">\n",
       "      <th></th>\n",
       "      <th>Status</th>\n",
       "      <th>Can Certified? /Hours</th>\n",
       "      <th>Participant</th>\n",
       "      <th>Activity Name</th>\n",
       "      <th>Enroll Deadline</th>\n",
       "      <th>Activity Time</th>\n",
       "      <th>Quota</th>\n",
       "      <th>Organizer</th>\n",
       "    </tr>\n",
       "  </thead>\n",
       "  <tbody>\n",
       "    <tr>\n",
       "      <th>0</th>\n",
       "      <td>Open</td>\n",
       "      <td>Can / 2</td>\n",
       "      <td>Depart Only</td>\n",
       "      <td>(112學年度中國語文學系系友座談(二)：學高為師，身正為範──教育學程心法分享)</td>\n",
       "      <td>2024/03/22(Fri)00:00~ 2024/03/31(Sun)12:00</td>\n",
       "      <td>2024/04/03(Wed) 12:00~14:00</td>\n",
       "      <td>27 / 45 People</td>\n",
       "      <td>Department of Chinese</td>\n",
       "    </tr>\n",
       "    <tr>\n",
       "      <th>1</th>\n",
       "      <td>Full</td>\n",
       "      <td>Can / 2</td>\n",
       "      <td>Student</td>\n",
       "      <td>(〔Rikec法學講座〕法律解殖之路：原住民族的殖民敘事解構與法律多元轉向)</td>\n",
       "      <td>2024/03/11(Mon)00:00~ 2024/04/01(Mon)00:00</td>\n",
       "      <td>2024/04/12(Fri) 10:00~12:00</td>\n",
       "      <td>20 / 20 People</td>\n",
       "      <td>(人文社會科學學院 法律學系)</td>\n",
       "    </tr>\n",
       "    <tr>\n",
       "      <th>2</th>\n",
       "      <td>Open</td>\n",
       "      <td>Can / 2</td>\n",
       "      <td>Student</td>\n",
       "      <td>(智慧電網簡介（書報討論修課同學請勿報名）)</td>\n",
       "      <td>2024/03/05(Tue)12:00~ 2024/04/01(Mon)12:00</td>\n",
       "      <td>2024/04/01(Mon) 16:00~18:00</td>\n",
       "      <td>18 / 30 People</td>\n",
       "      <td>Department of Physics</td>\n",
       "    </tr>\n",
       "    <tr>\n",
       "      <th>3</th>\n",
       "      <td>Open</td>\n",
       "      <td>Can / 3</td>\n",
       "      <td>Depart Only</td>\n",
       "      <td>(電商最新趨勢與創業實戰秘辛(實體))</td>\n",
       "      <td>2024/03/28(Thu)00:00~ 2024/04/01(Mon)12:00</td>\n",
       "      <td>2024/04/02(Tue) 14:00~17:00</td>\n",
       "      <td>14 / 40 People</td>\n",
       "      <td>College of Management International Business</td>\n",
       "    </tr>\n",
       "    <tr>\n",
       "      <th>4</th>\n",
       "      <td>Full</td>\n",
       "      <td>Can / 3</td>\n",
       "      <td>Depart Only</td>\n",
       "      <td>(電商最新趨勢與創業實戰秘辛(線上))</td>\n",
       "      <td>2024/03/28(Thu)00:00~ 2024/04/01(Mon)12:00</td>\n",
       "      <td>2024/04/02(Tue) 14:00~17:00</td>\n",
       "      <td>20 / 20 People</td>\n",
       "      <td>College of Management International Business</td>\n",
       "    </tr>\n",
       "    <tr>\n",
       "      <th>5</th>\n",
       "      <td>Open</td>\n",
       "      <td>Can / 2</td>\n",
       "      <td>Student, Faculty, Alumnus, Guest</td>\n",
       "      <td>(「縱目歐亞-空間與人文的對話」課程系列講座-4/3（三）郭俊麟副教授（國立東華大學臺灣文化...</td>\n",
       "      <td>2024/03/18(Mon)00:00~ 2024/04/02(Tue)00:00</td>\n",
       "      <td>2024/04/03(Wed) 14:00~16:00</td>\n",
       "      <td>28 / 40 People</td>\n",
       "      <td>College of Humanities and Social Science</td>\n",
       "    </tr>\n",
       "    <tr>\n",
       "      <th>6</th>\n",
       "      <td>Full</td>\n",
       "      <td>Can / 2</td>\n",
       "      <td>Student</td>\n",
       "      <td>(電影欣賞 (聖筊))</td>\n",
       "      <td>2024/03/26(Tue)00:00~ 2024/04/02(Tue)00:00</td>\n",
       "      <td>2024/04/02(Tue) 18:30~20:30</td>\n",
       "      <td>50 / 50 People</td>\n",
       "      <td>Library Services Section</td>\n",
       "    </tr>\n",
       "    <tr>\n",
       "      <th>7</th>\n",
       "      <td>Full</td>\n",
       "      <td>Can / 1</td>\n",
       "      <td>Student, Faculty, Alumnus, Guest</td>\n",
       "      <td>ESP Lunch Gathering Session 1: 4/3</td>\n",
       "      <td>2024/03/26(Tue)00:00~ 2024/04/02(Tue)10:00</td>\n",
       "      <td>2024/04/03(Wed) 12:15~13:00</td>\n",
       "      <td>20 / 20 People</td>\n",
       "      <td>Language Center</td>\n",
       "    </tr>\n",
       "    <tr>\n",
       "      <th>8</th>\n",
       "      <td>Open</td>\n",
       "      <td>Can / 1.5</td>\n",
       "      <td>Depart Only</td>\n",
       "      <td>(BA)Language Lounge-Volley Ball-Pitch</td>\n",
       "      <td>2024/03/26(Tue)00:00~ 2024/04/02(Tue)17:00</td>\n",
       "      <td>2024/04/03(Wed) 17:30~19:00</td>\n",
       "      <td>4 / 20 People</td>\n",
       "      <td>Department of Business Administration</td>\n",
       "    </tr>\n",
       "    <tr>\n",
       "      <th>9</th>\n",
       "      <td>Open</td>\n",
       "      <td>Can / 3</td>\n",
       "      <td>Depart Only</td>\n",
       "      <td>(如何寫好一篇優質的碩博士論文？)</td>\n",
       "      <td>2024/03/26(Tue)00:00~ 2024/04/02(Tue)17:00</td>\n",
       "      <td>2024/04/03(Wed) 09:10~12:00</td>\n",
       "      <td>0 / 8 People</td>\n",
       "      <td>Department of Accounting</td>\n",
       "    </tr>\n",
       "  </tbody>\n",
       "</table>\n",
       "</div>"
      ],
      "text/plain": [
       "  Status Can Certified? /Hours                       Participant  \\\n",
       "0   Open               Can / 2                       Depart Only   \n",
       "1   Full               Can / 2                           Student   \n",
       "2   Open               Can / 2                           Student   \n",
       "3   Open               Can / 3                       Depart Only   \n",
       "4   Full               Can / 3                       Depart Only   \n",
       "5   Open               Can / 2  Student, Faculty, Alumnus, Guest   \n",
       "6   Full               Can / 2                           Student   \n",
       "7   Full               Can / 1  Student, Faculty, Alumnus, Guest   \n",
       "8   Open             Can / 1.5                       Depart Only   \n",
       "9   Open               Can / 3                       Depart Only   \n",
       "\n",
       "                                      Activity Name   \\\n",
       "0          (112學年度中國語文學系系友座談(二)：學高為師，身正為範──教育學程心法分享)   \n",
       "1             (〔Rikec法學講座〕法律解殖之路：原住民族的殖民敘事解構與法律多元轉向)   \n",
       "2                             (智慧電網簡介（書報討論修課同學請勿報名）)   \n",
       "3                                (電商最新趨勢與創業實戰秘辛(實體))   \n",
       "4                                (電商最新趨勢與創業實戰秘辛(線上))   \n",
       "5  (「縱目歐亞-空間與人文的對話」課程系列講座-4/3（三）郭俊麟副教授（國立東華大學臺灣文化...   \n",
       "6                                        (電影欣賞 (聖筊))   \n",
       "7                 ESP Lunch Gathering Session 1: 4/3   \n",
       "8              (BA)Language Lounge-Volley Ball-Pitch   \n",
       "9                                  (如何寫好一篇優質的碩博士論文？)   \n",
       "\n",
       "                              Enroll Deadline                Activity Time  \\\n",
       "0  2024/03/22(Fri)00:00~ 2024/03/31(Sun)12:00  2024/04/03(Wed) 12:00~14:00   \n",
       "1  2024/03/11(Mon)00:00~ 2024/04/01(Mon)00:00  2024/04/12(Fri) 10:00~12:00   \n",
       "2  2024/03/05(Tue)12:00~ 2024/04/01(Mon)12:00  2024/04/01(Mon) 16:00~18:00   \n",
       "3  2024/03/28(Thu)00:00~ 2024/04/01(Mon)12:00  2024/04/02(Tue) 14:00~17:00   \n",
       "4  2024/03/28(Thu)00:00~ 2024/04/01(Mon)12:00  2024/04/02(Tue) 14:00~17:00   \n",
       "5  2024/03/18(Mon)00:00~ 2024/04/02(Tue)00:00  2024/04/03(Wed) 14:00~16:00   \n",
       "6  2024/03/26(Tue)00:00~ 2024/04/02(Tue)00:00  2024/04/02(Tue) 18:30~20:30   \n",
       "7  2024/03/26(Tue)00:00~ 2024/04/02(Tue)10:00  2024/04/03(Wed) 12:15~13:00   \n",
       "8  2024/03/26(Tue)00:00~ 2024/04/02(Tue)17:00  2024/04/03(Wed) 17:30~19:00   \n",
       "9  2024/03/26(Tue)00:00~ 2024/04/02(Tue)17:00  2024/04/03(Wed) 09:10~12:00   \n",
       "\n",
       "            Quota                                     Organizer  \n",
       "0  27 / 45 People                         Department of Chinese  \n",
       "1  20 / 20 People                               (人文社會科學學院 法律學系)  \n",
       "2  18 / 30 People                         Department of Physics  \n",
       "3  14 / 40 People  College of Management International Business  \n",
       "4  20 / 20 People  College of Management International Business  \n",
       "5  28 / 40 People      College of Humanities and Social Science  \n",
       "6  50 / 50 People                      Library Services Section  \n",
       "7  20 / 20 People                               Language Center  \n",
       "8   4 / 20 People         Department of Business Administration  \n",
       "9    0 / 8 People                      Department of Accounting  "
      ]
     },
     "execution_count": 10,
     "metadata": {},
     "output_type": "execute_result"
    }
   ],
   "source": [
    "import pandas as pd\n",
    "data = {\n",
    "    \"Status\" : status,\n",
    "    \"Can Certified? /Hours\" : CHours,\n",
    "    \"Participant\" : Part,\n",
    "    \"Activity Name \" : AName,\n",
    "    \"Enroll Deadline\" : EDl,\n",
    "    \"Activity Time\" : ATime,\n",
    "    \"Quota\" : Quota,\n",
    "    \"Organizer\" : Org,\n",
    "}\n",
    "df = pd.DataFrame(data)\n",
    "df"
   ]
  },
  {
   "cell_type": "code",
   "execution_count": null,
   "id": "ef5e141e",
   "metadata": {},
   "outputs": [],
   "source": []
  }
 ],
 "metadata": {
  "kernelspec": {
   "display_name": "Python 3",
   "language": "python",
   "name": "python3"
  },
  "language_info": {
   "codemirror_mode": {
    "name": "ipython",
    "version": 3
   },
   "file_extension": ".py",
   "mimetype": "text/x-python",
   "name": "python",
   "nbconvert_exporter": "python",
   "pygments_lexer": "ipython3",
   "version": "3.8.8"
  }
 },
 "nbformat": 4,
 "nbformat_minor": 5
}
